{
  "nbformat": 4,
  "nbformat_minor": 0,
  "metadata": {
    "colab": {
      "name": "NavegacionRobot.ipynb",
      "provenance": [],
      "collapsed_sections": [],
      "toc_visible": true
    },
    "kernelspec": {
      "name": "python3",
      "display_name": "Python 3"
    },
    "language_info": {
      "name": "python"
    }
  },
  "cells": [
    {
      "cell_type": "code",
      "metadata": {
        "colab": {
          "base_uri": "https://localhost:8080/"
        },
        "id": "OlQNay0wlj6g",
        "outputId": "c3b5fd7a-58b3-431d-adff-c21553a27a4c"
      },
      "source": [
        "from google.colab import drive\n",
        "drive.mount('/content/drive', force_remount=True)"
      ],
      "execution_count": null,
      "outputs": [
        {
          "output_type": "stream",
          "text": [
            "Mounted at /content/drive\n"
          ],
          "name": "stdout"
        }
      ]
    },
    {
      "cell_type": "markdown",
      "metadata": {
        "id": "fBcjuppMY5To"
      },
      "source": [
        "## Navegación Robot\n",
        "\n",
        "- 0: ADELANTE\n",
        "- 1: GIRAR A LA DERECHA\n",
        "- 2: GIRAR A LA IZQUIERDA"
      ]
    },
    {
      "cell_type": "markdown",
      "metadata": {
        "id": "TsFbo_PWPnqY"
      },
      "source": [
        "## Local instalation (option 1)"
      ]
    },
    {
      "cell_type": "markdown",
      "metadata": {
        "id": "WFcsKw4yRFW9"
      },
      "source": [
        "Install the following Python packages to run this notebook"
      ]
    },
    {
      "cell_type": "markdown",
      "metadata": {
        "id": "wV8FPBy_Pnqb"
      },
      "source": [
        "`pip install pip -U`\n",
        "\n",
        "`pip install tensorflow jupyter`"
      ]
    },
    {
      "cell_type": "markdown",
      "metadata": {
        "id": "e9zCYoYWQuh9"
      },
      "source": [
        "### How install extra packages\n",
        "Google Colab installs a series of basic packages if we need any additional package just install it."
      ]
    },
    {
      "cell_type": "code",
      "metadata": {
        "id": "U02xLDY7JuI6"
      },
      "source": [
        "!pip install -q keras sklearn"
      ],
      "execution_count": null,
      "outputs": []
    },
    {
      "cell_type": "markdown",
      "metadata": {
        "id": "S4DpauQ1Pnqg"
      },
      "source": [
        "## Import packages"
      ]
    },
    {
      "cell_type": "code",
      "metadata": {
        "id": "ja_tpjokPnqs"
      },
      "source": [
        "import matplotlib.pyplot as plt\n",
        "import numpy as np\n",
        "import pandas as pd\n",
        "import collections\n",
        "\n",
        "import sklearn\n",
        "from sklearn.model_selection import train_test_split\n",
        "from sklearn import metrics\n",
        "\n",
        "import tensorflow as tf\n",
        "import tensorflow_datasets as tfds\n",
        "\n",
        "from tensorflow import keras\n",
        "from tensorflow.keras.preprocessing.image import array_to_img, img_to_array, load_img\n",
        "from tensorflow.keras.models import Sequential\n",
        "from tensorflow.keras import layers\n",
        "\n",
        "from keras.callbacks import ModelCheckpoint, EarlyStopping\n",
        "from keras.preprocessing.image import ImageDataGenerator\n",
        "\n",
        "\n",
        "#from sklearn.utils import class_weight\n",
        "#from sklearn.model_selection import KFold, StratifiedKFold\n",
        "#import warnings\n",
        "#warnings.filterwarnings('ignore')"
      ],
      "execution_count": null,
      "outputs": []
    },
    {
      "cell_type": "markdown",
      "metadata": {
        "id": "_DCGtMSlPnq6"
      },
      "source": [
        "## Define global constants"
      ]
    },
    {
      "cell_type": "markdown",
      "metadata": {
        "id": "ceHkws-APnq8"
      },
      "source": [
        "Lets start with a few epochs to test learning network parameters"
      ]
    },
    {
      "cell_type": "code",
      "metadata": {
        "id": "74KODoafPnq-"
      },
      "source": [
        "batch_size = 32\n",
        "nb_classes = 3\n",
        "epochs = 15\n"
      ],
      "execution_count": null,
      "outputs": []
    },
    {
      "cell_type": "markdown",
      "metadata": {
        "id": "Vv_MQFlAPnra"
      },
      "source": [
        "## Build LeNet5 structure\n",
        "\n",
        "<center><img src=\"https://www.dlsi.ua.es/~juanra/UA/curso_verano_DL/images/LeNet5.jpg\"></center>"
      ]
    },
    {
      "cell_type": "markdown",
      "metadata": {
        "id": "lz2KwqhMv6CR"
      },
      "source": [
        "Building the model:"
      ]
    },
    {
      "cell_type": "markdown",
      "metadata": {
        "id": "dcFPrioR5Sjp"
      },
      "source": [
        "**Modelo inicial:**"
      ]
    },
    {
      "cell_type": "code",
      "metadata": {
        "colab": {
          "base_uri": "https://localhost:8080/"
        },
        "id": "BjakpYy36b56",
        "outputId": "6a009737-2d82-4c65-fa49-72ad736ff253"
      },
      "source": [
        "#Mejor hasta el momento: relu\n",
        "activation = \"relu\"\n",
        "\n",
        "\n",
        "def cnn_model():\n",
        "    #\n",
        "    # Neural Network Structure\n",
        "    #\n",
        "    \n",
        "    input_shape = (32, 32, 3)\n",
        "\n",
        "    inputs = keras.Input(shape=input_shape)\n",
        "    \n",
        "    x = layers.Conv2D(52, (5, 5), activation=activation)(inputs)\n",
        "    x = layers.MaxPooling2D(pool_size=(4, 4))(x)\n",
        "\n",
        "    x = layers.Conv2D(124, (5, 5), activation=activation)(x)\n",
        "    x = layers.MaxPooling2D(pool_size=(2, 2))(x)\n",
        "\n",
        "    x = layers.Flatten()(x)\n",
        "\n",
        "    x = layers.Dense(120, activation=activation)(x)\n",
        "    x = layers.Dense(84, activation=activation)(x)\n",
        "    x = layers.Dense(32, activation=activation)(x)\n",
        "    \n",
        "\n",
        "    outputs = layers.Dense(nb_classes, activation='softmax')(x)\n",
        "\n",
        "    model = keras.Model(inputs=inputs, outputs=outputs)\n",
        "\n",
        "    return model\n",
        "\n",
        "model = cnn_model()\n",
        "keras.utils.plot_model(model, 'my_first_model_with_shape_info.png', show_shapes=True)"
      ],
      "execution_count": null,
      "outputs": [
        {
          "output_type": "execute_result",
          "data": {
            "image/png": "[encoded data removed]",
            "text/plain": [
              "<IPython.core.display.Image object>"
            ]
          },
          "metadata": {
            "tags": []
          },
          "execution_count": 51
        }
      ]
    },
    {
      "cell_type": "markdown",
      "metadata": {
        "id": "2KVM-9GgPnrk"
      },
      "source": [
        "## Start to run the program"
      ]
    },
    {
      "cell_type": "markdown",
      "metadata": {
        "id": "-XAyI6dbGxaj"
      },
      "source": [
        "Métricas:"
      ]
    },
    {
      "cell_type": "code",
      "metadata": {
        "colab": {
          "base_uri": "https://localhost:8080/"
        },
        "id": "shmtSL3f2cF0",
        "outputId": "d358c141-5c1d-4e89-d56a-c88baaea8683"
      },
      "source": [
        "\n",
        "# Definimos el datagen\n",
        "datagen = ImageDataGenerator(\n",
        "  rescale=1./255,\n",
        "  validation_split=0.1\n",
        ")\n",
        "\n",
        "# Le cargamos el dataset de imágenes\n",
        "inputs = datagen.flow_from_directory(\n",
        "    \"/content/drive/MyDrive/datasets/navegacion_var\",\n",
        "    target_size=(32, 32),\n",
        "    batch_size=batch_size,\n",
        "    class_mode=\"categorical\"\n",
        ")\n"
      ],
      "execution_count": null,
      "outputs": [
        {
          "output_type": "stream",
          "text": [
            "Found 1152 images belonging to 3 classes.\n"
          ],
          "name": "stdout"
        }
      ]
    },
    {
      "cell_type": "code",
      "metadata": {
        "colab": {
          "base_uri": "https://localhost:8080/"
        },
        "id": "ualqVMBOPnsG",
        "outputId": "2e0f7461-7a1e-4e3a-ef27-793530f86569"
      },
      "source": [
        "model = cnn_model()\n",
        "\n",
        "model.compile(loss='categorical_crossentropy',optimizer='adam', metrics=['accuracy'])\n",
        "early_stopping = EarlyStopping(monitor='accuracy', patience=4)\n",
        "\n",
        "#Entrenamos el modelo\n",
        "model.fit(inputs, epochs=epochs, batch_size=batch_size , verbose=2, callbacks=early_stopping)\n",
        "  \n",
        "print(model.summary())"
      ],
      "execution_count": null,
      "outputs": [
        {
          "output_type": "stream",
          "text": [
            "Epoch 1/15\n",
            "36/36 - 9s - loss: 1.0695 - accuracy: 0.3854\n",
            "Epoch 2/15\n",
            "36/36 - 8s - loss: 0.9141 - accuracy: 0.5347\n",
            "Epoch 3/15\n",
            "36/36 - 8s - loss: 0.8155 - accuracy: 0.6024\n",
            "Epoch 4/15\n",
            "36/36 - 8s - loss: 0.7551 - accuracy: 0.6606\n",
            "Epoch 5/15\n",
            "36/36 - 8s - loss: 0.7013 - accuracy: 0.7005\n",
            "Epoch 6/15\n",
            "36/36 - 8s - loss: 0.6491 - accuracy: 0.7283\n",
            "Epoch 7/15\n",
            "36/36 - 8s - loss: 0.5977 - accuracy: 0.7552\n",
            "Epoch 8/15\n",
            "36/36 - 8s - loss: 0.5367 - accuracy: 0.7804\n",
            "Epoch 9/15\n",
            "36/36 - 8s - loss: 0.4850 - accuracy: 0.8056\n",
            "Epoch 10/15\n",
            "36/36 - 8s - loss: 0.4287 - accuracy: 0.8333\n",
            "Epoch 11/15\n",
            "36/36 - 8s - loss: 0.3713 - accuracy: 0.8620\n",
            "Epoch 12/15\n",
            "36/36 - 8s - loss: 0.3287 - accuracy: 0.8802\n",
            "Epoch 13/15\n",
            "36/36 - 8s - loss: 0.3070 - accuracy: 0.8828\n",
            "Epoch 14/15\n",
            "36/36 - 8s - loss: 0.2939 - accuracy: 0.8906\n",
            "Epoch 15/15\n",
            "36/36 - 8s - loss: 0.2547 - accuracy: 0.9028\n",
            "Model: \"model_14\"\n",
            "_________________________________________________________________\n",
            "Layer (type)                 Output Shape              Param #   \n",
            "=================================================================\n",
            "input_15 (InputLayer)        [(None, 32, 32, 3)]       0         \n",
            "_________________________________________________________________\n",
            "conv2d_28 (Conv2D)           (None, 28, 28, 52)        3952      \n",
            "_________________________________________________________________\n",
            "max_pooling2d_28 (MaxPooling (None, 7, 7, 52)          0         \n",
            "_________________________________________________________________\n",
            "conv2d_29 (Conv2D)           (None, 3, 3, 124)         161324    \n",
            "_________________________________________________________________\n",
            "max_pooling2d_29 (MaxPooling (None, 1, 1, 124)         0         \n",
            "_________________________________________________________________\n",
            "flatten_14 (Flatten)         (None, 124)               0         \n",
            "_________________________________________________________________\n",
            "dense_56 (Dense)             (None, 120)               15000     \n",
            "_________________________________________________________________\n",
            "dense_57 (Dense)             (None, 84)                10164     \n",
            "_________________________________________________________________\n",
            "dense_58 (Dense)             (None, 32)                2720      \n",
            "_________________________________________________________________\n",
            "dense_59 (Dense)             (None, 3)                 99        \n",
            "=================================================================\n",
            "Total params: 193,259\n",
            "Trainable params: 193,259\n",
            "Non-trainable params: 0\n",
            "_________________________________________________________________\n",
            "None\n"
          ],
          "name": "stdout"
        }
      ]
    },
    {
      "cell_type": "markdown",
      "metadata": {
        "id": "_HwVvcvWFuPe"
      },
      "source": [
        "#Guardar red"
      ]
    },
    {
      "cell_type": "code",
      "metadata": {
        "id": "9u39JmjtFtr5"
      },
      "source": [
        "'''\n",
        "import json\n",
        "json_config = model.to_json()\n",
        "with open('modelo.json', 'w') as f:\n",
        "    json.dump(json_config, f)\n",
        "'''\n",
        "\n",
        "model.save('./modelo/modelo.h5')\n",
        "model.save_weights('./modelo/pesos.h5')\n"
      ],
      "execution_count": null,
      "outputs": []
    },
    {
      "cell_type": "code",
      "metadata": {
        "id": "ZeJusdxX0HV1",
        "colab": {
          "base_uri": "https://localhost:8080/"
        },
        "outputId": "3b63d69a-427d-4f62-e198-fc3ac41ae704"
      },
      "source": [
        "def predict(file):\n",
        "  x = load_img(file, target_size=(32, 32))\n",
        "  x = img_to_array(x)\n",
        "  x = np.expand_dims(x, axis=0)\n",
        "  array = model.predict(x)\n",
        "  result = array[0]\n",
        "  answer = np.argmax(result)\n",
        "  if answer == 0:\n",
        "    print(\"pred: Adelante\")\n",
        "  #elif answer == 1:\n",
        "    #print(\"pred: Atrás\")\n",
        "  elif answer == 1:\n",
        "    print(\"pred: Derecha\")\n",
        "  elif answer == 2:\n",
        "    print(\"pred: Izquierda\")\n",
        "  return answer\n",
        "\n",
        "print(\"Adelante:\")\n",
        "for i in range(15):\n",
        "  if(i<10): \n",
        "    predict(\"/content/drive/MyDrive/datasets/navegacion_var/adelante/adelante000\"+str(i)+\".jpg\")\n",
        "  else:\n",
        "    predict(\"/content/drive/MyDrive/datasets/navegacion_var/adelante/adelante00\"+str(i)+\".jpg\")\n",
        "\n",
        "print()\n",
        "print(\"Derecha:\")\n",
        "for i in range(15):\n",
        "  if(i<10):\n",
        "    predict(\"/content/drive/MyDrive/datasets/navegacion_var/derecha/derecha000\"+str(i)+\".jpg\")\n",
        "  else:\n",
        "    predict(\"/content/drive/MyDrive/datasets/navegacion_var/derecha/derecha00\"+str(i)+\".jpg\")\n",
        "\n",
        "print()\n",
        "print(\"Izquierda:\")\n",
        "for i in range(15):\n",
        "  if(i<10):\n",
        "    predict(\"/content/drive/MyDrive/datasets/navegacion_var/izquierda/izquierda000\"+str(i)+\".jpg\")\n",
        "  else:\n",
        "    predict(\"/content/drive/MyDrive/datasets/navegacion_var/izquierda/izquierda00\"+str(i)+\".jpg\")\n",
        "\n",
        "\n"
      ],
      "execution_count": null,
      "outputs": [
        {
          "output_type": "stream",
          "text": [
            "Adelante:\n",
            "pred: Adelante\n",
            "pred: Adelante\n",
            "pred: Adelante\n",
            "pred: Adelante\n",
            "pred: Adelante\n",
            "pred: Adelante\n",
            "pred: Adelante\n",
            "pred: Adelante\n",
            "pred: Adelante\n",
            "pred: Adelante\n",
            "pred: Adelante\n",
            "pred: Adelante\n",
            "pred: Adelante\n",
            "pred: Adelante\n",
            "pred: Adelante\n",
            "\n",
            "Derecha:\n",
            "pred: Adelante\n",
            "pred: Derecha\n",
            "pred: Derecha\n",
            "pred: Derecha\n",
            "pred: Derecha\n",
            "pred: Derecha\n",
            "pred: Derecha\n",
            "pred: Derecha\n",
            "pred: Derecha\n",
            "pred: Derecha\n",
            "pred: Derecha\n",
            "pred: Adelante\n",
            "pred: Derecha\n",
            "pred: Derecha\n",
            "pred: Derecha\n",
            "\n",
            "Izquierda:\n",
            "pred: Izquierda\n",
            "pred: Izquierda\n",
            "pred: Izquierda\n",
            "pred: Adelante\n",
            "pred: Izquierda\n",
            "pred: Izquierda\n",
            "pred: Izquierda\n",
            "pred: Izquierda\n",
            "pred: Izquierda\n",
            "pred: Izquierda\n",
            "pred: Izquierda\n",
            "pred: Izquierda\n",
            "pred: Izquierda\n",
            "pred: Adelante\n",
            "pred: Izquierda\n"
          ],
          "name": "stdout"
        }
      ]
    }
  ]
}