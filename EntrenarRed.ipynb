{
  "nbformat": 4,
  "nbformat_minor": 0,
  "metadata": {
    "colab": {
      "name": "VAR.ipynb",
      "provenance": [],
      "collapsed_sections": [],
      "toc_visible": true
    },
    "kernelspec": {
      "name": "python3",
      "display_name": "Python 3"
    },
    "language_info": {
      "name": "python"
    }
  },
  "cells": [
    {
      "cell_type": "code",
      "metadata": {
        "colab": {
          "base_uri": "https://localhost:8080/"
        },
        "id": "OlQNay0wlj6g",
        "outputId": "883491c1-19b4-4eb4-e2cd-60e1bd422a24"
      },
      "source": [
        "from google.colab import drive\n",
        "drive.mount('/content/drive', force_remount=True)"
      ],
      "execution_count": 41,
      "outputs": [
        {
          "output_type": "stream",
          "text": [
            "Mounted at /content/drive\n"
          ],
          "name": "stdout"
        }
      ]
    },
    {
      "cell_type": "markdown",
      "metadata": {
        "id": "fBcjuppMY5To"
      },
      "source": [
        "## Navegación Robot\n",
        "\n",
        "- 0: ADELANTE\n",
        "- 1: GIRAR A LA IZQUIERDA\n",
        "- 2: GIRAR A LA DERECHA"
      ]
    },
    {
      "cell_type": "markdown",
      "metadata": {
        "id": "TsFbo_PWPnqY"
      },
      "source": [
        "## Local instalation (option 1)"
      ]
    },
    {
      "cell_type": "markdown",
      "metadata": {
        "id": "WFcsKw4yRFW9"
      },
      "source": [
        "Install the following Python packages to run this notebook"
      ]
    },
    {
      "cell_type": "markdown",
      "metadata": {
        "id": "wV8FPBy_Pnqb"
      },
      "source": [
        "`pip install pip -U`\n",
        "\n",
        "`pip install tensorflow jupyter`"
      ]
    },
    {
      "cell_type": "markdown",
      "metadata": {
        "id": "gwdcOnWzJoKZ"
      },
      "source": [
        "## Google Colab (option 2)"
      ]
    },
    {
      "cell_type": "markdown",
      "metadata": {
        "id": "VxbyP9eiR4R7"
      },
      "source": [
        "[Google Colab](https://colab.research.google.com/) is a research project created to help disseminate machine learning education and research. It's a `Jupyter notebook` environment that requires no setup to use and runs entirely in the cloud.\n",
        "\n",
        "Colaboratory notebooks are stored in [Google Drive](https://drive.google.com) and can be shared just as you would with Google Docs or Sheets. Colaboratory is free to use.\n",
        "\n",
        "For more information, see our [FAQ](https://research.google.com/colaboratory/faq.html)."
      ]
    },
    {
      "cell_type": "markdown",
      "metadata": {
        "id": "e9zCYoYWQuh9"
      },
      "source": [
        "### How install extra packages\n",
        "Google Colab installs a series of basic packages if we need any additional package just install it."
      ]
    },
    {
      "cell_type": "code",
      "metadata": {
        "colab": {
          "base_uri": "https://localhost:8080/"
        },
        "id": "U02xLDY7JuI6",
        "outputId": "58b17727-3ad1-4c52-d1ce-627e4ae94e02"
      },
      "source": [
        "!pip install -q keras sklearn\n",
        "\n",
        "!pip install shap"
      ],
      "execution_count": 42,
      "outputs": [
        {
          "output_type": "stream",
          "text": [
            "Requirement already satisfied: shap in /usr/local/lib/python3.7/dist-packages (0.39.0)\n",
            "Requirement already satisfied: scikit-learn in /usr/local/lib/python3.7/dist-packages (from shap) (0.22.2.post1)\n",
            "Requirement already satisfied: cloudpickle in /usr/local/lib/python3.7/dist-packages (from shap) (1.3.0)\n",
            "Requirement already satisfied: numba in /usr/local/lib/python3.7/dist-packages (from shap) (0.51.2)\n",
            "Requirement already satisfied: numpy in /usr/local/lib/python3.7/dist-packages (from shap) (1.19.5)\n",
            "Requirement already satisfied: scipy in /usr/local/lib/python3.7/dist-packages (from shap) (1.4.1)\n",
            "Requirement already satisfied: slicer==0.0.7 in /usr/local/lib/python3.7/dist-packages (from shap) (0.0.7)\n",
            "Requirement already satisfied: pandas in /usr/local/lib/python3.7/dist-packages (from shap) (1.1.5)\n",
            "Requirement already satisfied: tqdm>4.25.0 in /usr/local/lib/python3.7/dist-packages (from shap) (4.41.1)\n",
            "Requirement already satisfied: joblib>=0.11 in /usr/local/lib/python3.7/dist-packages (from scikit-learn->shap) (1.0.1)\n",
            "Requirement already satisfied: llvmlite<0.35,>=0.34.0.dev0 in /usr/local/lib/python3.7/dist-packages (from numba->shap) (0.34.0)\n",
            "Requirement already satisfied: setuptools in /usr/local/lib/python3.7/dist-packages (from numba->shap) (54.1.2)\n",
            "Requirement already satisfied: pytz>=2017.2 in /usr/local/lib/python3.7/dist-packages (from pandas->shap) (2018.9)\n",
            "Requirement already satisfied: python-dateutil>=2.7.3 in /usr/local/lib/python3.7/dist-packages (from pandas->shap) (2.8.1)\n",
            "Requirement already satisfied: six>=1.5 in /usr/local/lib/python3.7/dist-packages (from python-dateutil>=2.7.3->pandas->shap) (1.15.0)\n"
          ],
          "name": "stdout"
        }
      ]
    },
    {
      "cell_type": "markdown",
      "metadata": {
        "id": "S4DpauQ1Pnqg"
      },
      "source": [
        "## Import packages"
      ]
    },
    {
      "cell_type": "code",
      "metadata": {
        "id": "ja_tpjokPnqs"
      },
      "source": [
        "import matplotlib.pyplot as plt\n",
        "import numpy as np\n",
        "import pandas as pd\n",
        "import collections\n",
        "\n",
        "import sklearn\n",
        "from sklearn.model_selection import train_test_split\n",
        "from sklearn import metrics\n",
        "\n",
        "import tensorflow as tf\n",
        "import tensorflow_datasets as tfds\n",
        "\n",
        "from tensorflow import keras\n",
        "from tensorflow.keras.preprocessing.image import array_to_img, img_to_array, load_img\n",
        "from tensorflow.keras.models import Sequential\n",
        "from tensorflow.keras import layers\n",
        "\n",
        "from keras.callbacks import ModelCheckpoint, EarlyStopping\n",
        "from sklearn.utils import class_weight\n",
        "\n",
        "from sklearn.model_selection import KFold, StratifiedKFold\n",
        "\n",
        "from keras.preprocessing.image import ImageDataGenerator\n",
        "\n",
        "from scipy.stats import wilcoxon\n",
        "import warnings\n",
        "warnings.filterwarnings('ignore')\n",
        "import shap\n",
        "\n",
        "from skimage import data, img_as_float, exposure"
      ],
      "execution_count": 43,
      "outputs": []
    },
    {
      "cell_type": "markdown",
      "metadata": {
        "id": "_DCGtMSlPnq6"
      },
      "source": [
        "## Define global constants"
      ]
    },
    {
      "cell_type": "markdown",
      "metadata": {
        "id": "ceHkws-APnq8"
      },
      "source": [
        "Lets start with a few epochs to test learning network parameters"
      ]
    },
    {
      "cell_type": "code",
      "metadata": {
        "id": "74KODoafPnq-"
      },
      "source": [
        "batch_size = 32\n",
        "nb_classes = 3\n",
        "epochs = 25\n",
        "\n",
        "\n",
        "# Scaling input image to theses dimensions\n",
        "#img_rows, img_cols = 32, 32 #24, 24"
      ],
      "execution_count": 44,
      "outputs": []
    },
    {
      "cell_type": "markdown",
      "metadata": {
        "id": "Vv_MQFlAPnra"
      },
      "source": [
        "## Build LeNet5 structure\n",
        "\n",
        "<center><img src=\"https://www.dlsi.ua.es/~juanra/UA/curso_verano_DL/images/LeNet5.jpg\"></center>"
      ]
    },
    {
      "cell_type": "markdown",
      "metadata": {
        "id": "lz2KwqhMv6CR"
      },
      "source": [
        "Building the model:"
      ]
    },
    {
      "cell_type": "markdown",
      "metadata": {
        "id": "MXuJpMI8QMqM"
      },
      "source": [
        "**(Mejor hasta el momento)** -> Funciones de activación ReLU"
      ]
    },
    {
      "cell_type": "markdown",
      "metadata": {
        "id": "dcFPrioR5Sjp"
      },
      "source": [
        "**Modelo inicial:**"
      ]
    },
    {
      "cell_type": "code",
      "metadata": {
        "colab": {
          "base_uri": "https://localhost:8080/",
          "height": 1000
        },
        "id": "BjakpYy36b56",
        "outputId": "471a61f3-f20a-4c42-9da2-e72c1f82537f"
      },
      "source": [
        "import sys\n",
        "import os\n",
        "from tensorflow.python.keras.preprocessing.image import ImageDataGenerator\n",
        "from tensorflow.python.keras import optimizers\n",
        "from tensorflow.python.keras.models import Sequential\n",
        "from tensorflow.python.keras.layers import Dropout, Flatten, Dense, Activation\n",
        "from tensorflow.python.keras.layers import  Convolution2D, MaxPooling2D\n",
        "from tensorflow.python.keras import backend as K\n",
        "\n",
        "#Funciones de optimización probadas: sigmoid, tanh, relu, selu\n",
        "#Mejor hasta el momento: relu\n",
        "activation = \"relu\"\n",
        "\n",
        "def cnn_model():\n",
        "    #\n",
        "    # Neural Network Structure\n",
        "    #\n",
        "    \n",
        "    input_shape = (32, 32, 3)\n",
        "\n",
        "    inputs = keras.Input(shape=input_shape)\n",
        "    \n",
        "    x = layers.Conv2D(52, (5, 5), activation=activation)(inputs)\n",
        "    x = layers.MaxPooling2D(pool_size=(4, 4))(x)\n",
        "\n",
        "    x = layers.Conv2D(124, (5, 5), activation=activation)(x)\n",
        "    x = layers.MaxPooling2D(pool_size=(2, 2))(x)\n",
        "\n",
        "    x = layers.Flatten()(x)\n",
        "\n",
        "    x = layers.Dense(120, activation=activation)(x)\n",
        "    x = layers.Dense(84, activation=activation)(x)\n",
        "    x = layers.Dense(32, activation=activation)(x)\n",
        "    \n",
        "\n",
        "    outputs = layers.Dense(nb_classes, activation='softmax')(x)\n",
        "\n",
        "    model = keras.Model(inputs=inputs, outputs=outputs)\n",
        "\n",
        "    return model\n",
        "\n",
        "'''\n",
        "\"\"\"\n",
        "Parameters\n",
        "\"\"\"\n",
        "epocas=20\n",
        "longitud, altura = 640, 480\n",
        "batch_size = 32\n",
        "pasos = 1000\n",
        "validation_steps = 300\n",
        "filtrosConv1 = 32\n",
        "filtrosConv2 = 64\n",
        "tamano_filtro1 = (3, 3)\n",
        "tamano_filtro2 = (2, 2)\n",
        "tamano_pool = (2, 2)\n",
        "clases = 3\n",
        "lr = 0.0004\n",
        "\n",
        "model = Sequential()\n",
        "model.add(Convolution2D(filtrosConv1, tamano_filtro1, padding =\"same\", input_shape=(longitud, altura, 3), activation='relu'))\n",
        "model.add(MaxPooling2D(pool_size=tamano_pool))\n",
        "\n",
        "model.add(Convolution2D(filtrosConv2, tamano_filtro2, padding =\"same\"))\n",
        "model.add(MaxPooling2D(pool_size=tamano_pool))\n",
        "\n",
        "model.add(Flatten())\n",
        "model.add(Dense(256, activation='relu'))\n",
        "model.add(Dropout(0.5))\n",
        "model.add(Dense(clases, activation='softmax'))\n",
        "'''\n",
        "\n",
        "model = cnn_model()\n",
        "keras.utils.plot_model(model, 'my_first_model_with_shape_info.png', show_shapes=True)"
      ],
      "execution_count": 45,
      "outputs": [
        {
          "output_type": "execute_result",
          "data": {
            "image/png": "[encoded data removed]",
            "text/plain": [
              "<IPython.core.display.Image object>"
            ]
          },
          "metadata": {
            "tags": []
          },
          "execution_count": 45
        }
      ]
    },
    {
      "cell_type": "markdown",
      "metadata": {
        "id": "2KVM-9GgPnrk"
      },
      "source": [
        "## Start to run the program"
      ]
    },
    {
      "cell_type": "code",
      "metadata": {
        "id": "q6Po_EdS2quN"
      },
      "source": [
        "# Cada instancia de ImageDataGenerator efectuará unas modificaciones. Es decir,\n",
        "# utilizamos el datagen que tenga las modificaciones que deseamos.\n",
        "# Las aplicamos con el método flow\n",
        "\n",
        "datagen = ImageDataGenerator(\n",
        "  rescale=1./255\n",
        ")"
      ],
      "execution_count": 46,
      "outputs": []
    },
    {
      "cell_type": "code",
      "metadata": {
        "colab": {
          "base_uri": "https://localhost:8080/"
        },
        "id": "shmtSL3f2cF0",
        "outputId": "69dfd405-b33a-4713-88c3-069a5e0e6a17"
      },
      "source": [
        "# No es necesario, pero prefiero llamar así al conjunto de entrenamiento,\n",
        "inputs = datagen.flow_from_directory(\n",
        "    \"/content/drive/MyDrive/images_var2\",\n",
        "    target_size=(32, 32),\n",
        "    batch_size=batch_size,\n",
        "    class_mode=\"categorical\" \n",
        ")\n",
        "\n",
        "\n",
        "# Define the K-fold Cross Validator\n",
        "# 10 Cross Validation\n",
        "# num_folds se define al comienzo junto a los otros parámetros, debe ser 10 para\n",
        "# para haber implementado 10-CV\n",
        "# Utilizamos StratifiedKFold ya que de esta manera las divisiones del conjunto\n",
        "# se hacen atendiendo a la proporción de clases del conjunto completo.\n",
        "# Se realizan de manera que puedan representar el escenario real (el total)\n",
        "#skfold = StratifiedKFold(n_splits=num_folds, shuffle=True)\n",
        "\n",
        "#print(f'Inputs {inputs.shape}')\n",
        "#print(f'Targets {targets.shape}')"
      ],
      "execution_count": 47,
      "outputs": [
        {
          "output_type": "stream",
          "text": [
            "Found 781 images belonging to 3 classes.\n"
          ],
          "name": "stdout"
        }
      ]
    },
    {
      "cell_type": "code",
      "metadata": {
        "colab": {
          "base_uri": "https://localhost:8080/"
        },
        "id": "ualqVMBOPnsG",
        "outputId": "bf94be19-18d6-4c51-ee27-738b0309585c"
      },
      "source": [
        "\n",
        "model.compile(loss='categorical_crossentropy',optimizer='adam', metrics=['accuracy'])\n",
        "#early_stopping = EarlyStopping(monitor='val_loss', patience=8)\n",
        "early_stopping = EarlyStopping(monitor='accuracy', patience=8)\n",
        "\n",
        "\n",
        "\n",
        "#model.fit(datagen.flow(inputs_train, targets_train_nn, batch_size=24), verbose=2, epochs=10)\n",
        "model.fit(inputs, epochs=12, batch_size=32 ,verbose=2, callbacks=early_stopping)\n",
        "\n",
        "  \n",
        "print(model.summary())"
      ],
      "execution_count": 48,
      "outputs": [
        {
          "output_type": "stream",
          "text": [
            "Epoch 1/12\n",
            "25/25 - 6s - loss: 1.0749 - accuracy: 0.4097\n",
            "Epoch 2/12\n",
            "25/25 - 5s - loss: 0.9309 - accuracy: 0.5647\n",
            "Epoch 3/12\n",
            "25/25 - 5s - loss: 0.7881 - accuracy: 0.6863\n",
            "Epoch 4/12\n",
            "25/25 - 5s - loss: 0.6992 - accuracy: 0.7234\n",
            "Epoch 5/12\n",
            "25/25 - 5s - loss: 0.6244 - accuracy: 0.7529\n",
            "Epoch 6/12\n",
            "25/25 - 5s - loss: 0.5969 - accuracy: 0.7542\n",
            "Epoch 7/12\n",
            "25/25 - 5s - loss: 0.5263 - accuracy: 0.7964\n",
            "Epoch 8/12\n",
            "25/25 - 5s - loss: 0.5226 - accuracy: 0.7913\n",
            "Epoch 9/12\n",
            "25/25 - 5s - loss: 0.4440 - accuracy: 0.8143\n",
            "Epoch 10/12\n",
            "25/25 - 5s - loss: 0.3988 - accuracy: 0.8374\n",
            "Epoch 11/12\n",
            "25/25 - 5s - loss: 0.2937 - accuracy: 0.8886\n",
            "Epoch 12/12\n",
            "25/25 - 5s - loss: 0.3180 - accuracy: 0.8745\n",
            "Model: \"model_1\"\n",
            "_________________________________________________________________\n",
            "Layer (type)                 Output Shape              Param #   \n",
            "=================================================================\n",
            "input_2 (InputLayer)         [(None, 32, 32, 3)]       0         \n",
            "_________________________________________________________________\n",
            "conv2d_2 (Conv2D)            (None, 28, 28, 52)        3952      \n",
            "_________________________________________________________________\n",
            "max_pooling2d_2 (MaxPooling2 (None, 7, 7, 52)          0         \n",
            "_________________________________________________________________\n",
            "conv2d_3 (Conv2D)            (None, 3, 3, 124)         161324    \n",
            "_________________________________________________________________\n",
            "max_pooling2d_3 (MaxPooling2 (None, 1, 1, 124)         0         \n",
            "_________________________________________________________________\n",
            "flatten_1 (Flatten)          (None, 124)               0         \n",
            "_________________________________________________________________\n",
            "dense_4 (Dense)              (None, 120)               15000     \n",
            "_________________________________________________________________\n",
            "dense_5 (Dense)              (None, 84)                10164     \n",
            "_________________________________________________________________\n",
            "dense_6 (Dense)              (None, 32)                2720      \n",
            "_________________________________________________________________\n",
            "dense_7 (Dense)              (None, 3)                 99        \n",
            "=================================================================\n",
            "Total params: 193,259\n",
            "Trainable params: 193,259\n",
            "Non-trainable params: 0\n",
            "_________________________________________________________________\n",
            "None\n"
          ],
          "name": "stdout"
        }
      ]
    },
    {
      "cell_type": "markdown",
      "metadata": {
        "id": "_HwVvcvWFuPe"
      },
      "source": [
        "#Guardar red"
      ]
    },
    {
      "cell_type": "code",
      "metadata": {
        "id": "9u39JmjtFtr5"
      },
      "source": [
        "model.save('./modelo/modelo.h5')\n",
        "model.save_weights('./modelo/pesos.h5')"
      ],
      "execution_count": 52,
      "outputs": []
    },
    {
      "cell_type": "code",
      "metadata": {
        "colab": {
          "base_uri": "https://localhost:8080/"
        },
        "id": "ZeJusdxX0HV1",
        "outputId": "94ea17e1-b86f-429f-8c8a-d1b2e46a140f"
      },
      "source": [
        "def predict(file):\n",
        "  x = load_img(file, target_size=(32, 32))\n",
        "  x = img_to_array(x)\n",
        "  x = np.expand_dims(x, axis=0)\n",
        "  array = model.predict(x)\n",
        "  result = array[0]\n",
        "  answer = np.argmax(result)\n",
        "  if answer == 0:\n",
        "    print(\"pred: Adelante\")\n",
        "  elif answer == 1:\n",
        "    print(\"pred: Derecha\")\n",
        "  elif answer == 2:\n",
        "    print(\"pred: Izquierda\")\n",
        "  return answer\n",
        "\n",
        "print(\"Adelante:\")\n",
        "for i in range(30):\n",
        "  if(i<10): \n",
        "    print(predict(\"/content/drive/MyDrive/images_var2/adelante/left000\"+str(i)+\".jpg\"))\n",
        "  else:\n",
        "    print(predict(\"/content/drive/MyDrive/images_var2/adelante/left00\"+str(i)+\".jpg\"))\n",
        "\n",
        "print()\n",
        "print(\"Izquierda:\")\n",
        "for i in range(30):\n",
        "  if(i<10):\n",
        "    print(predict(\"/content/drive/MyDrive/images_var2/izquierda/left000\"+str(i)+\".jpg\"))\n",
        "  else:\n",
        "    print(predict(\"/content/drive/MyDrive/images_var2/izquierda/left00\"+str(i)+\".jpg\"))\n",
        "\n",
        "print()\n",
        "print(\"Derecha:\")\n",
        "for i in range(30):\n",
        "  if(i<10):\n",
        "    print(predict(\"/content/drive/MyDrive/images_var2/derecha/left000\"+str(i)+\".jpg\"))\n",
        "  else:\n",
        "    print(predict(\"/content/drive/MyDrive/images_var2/derecha/left00\"+str(i)+\".jpg\"))"
      ],
      "execution_count": 49,
      "outputs": [
        {
          "output_type": "stream",
          "text": [
            "Adelante:\n",
            "pred: Adelante\n",
            "0\n",
            "pred: Adelante\n",
            "0\n",
            "pred: Adelante\n",
            "0\n",
            "pred: Adelante\n",
            "0\n",
            "pred: Adelante\n",
            "0\n",
            "pred: Adelante\n",
            "0\n",
            "pred: Adelante\n",
            "0\n",
            "pred: Adelante\n",
            "0\n",
            "pred: Adelante\n",
            "0\n",
            "pred: Adelante\n",
            "0\n",
            "pred: Adelante\n",
            "0\n",
            "pred: Adelante\n",
            "0\n",
            "pred: Adelante\n",
            "0\n",
            "pred: Adelante\n",
            "0\n",
            "pred: Adelante\n",
            "0\n",
            "pred: Derecha\n",
            "1\n",
            "pred: Derecha\n",
            "1\n",
            "pred: Derecha\n",
            "1\n",
            "pred: Derecha\n",
            "1\n",
            "pred: Izquierda\n",
            "2\n",
            "pred: Izquierda\n",
            "2\n",
            "pred: Izquierda\n",
            "2\n",
            "pred: Izquierda\n",
            "2\n",
            "pred: Adelante\n",
            "0\n",
            "pred: Adelante\n",
            "0\n",
            "pred: Adelante\n",
            "0\n",
            "pred: Adelante\n",
            "0\n",
            "pred: Adelante\n",
            "0\n",
            "pred: Adelante\n",
            "0\n",
            "pred: Adelante\n",
            "0\n",
            "\n",
            "Izquierda:\n",
            "pred: Izquierda\n",
            "2\n",
            "pred: Izquierda\n",
            "2\n",
            "pred: Izquierda\n",
            "2\n",
            "pred: Izquierda\n",
            "2\n",
            "pred: Izquierda\n",
            "2\n",
            "pred: Izquierda\n",
            "2\n",
            "pred: Izquierda\n",
            "2\n",
            "pred: Izquierda\n",
            "2\n",
            "pred: Izquierda\n",
            "2\n",
            "pred: Izquierda\n",
            "2\n",
            "pred: Izquierda\n",
            "2\n",
            "pred: Izquierda\n",
            "2\n",
            "pred: Izquierda\n",
            "2\n",
            "pred: Izquierda\n",
            "2\n",
            "pred: Izquierda\n",
            "2\n",
            "pred: Izquierda\n",
            "2\n",
            "pred: Izquierda\n",
            "2\n",
            "pred: Izquierda\n",
            "2\n",
            "pred: Izquierda\n",
            "2\n",
            "pred: Izquierda\n",
            "2\n",
            "pred: Izquierda\n",
            "2\n",
            "pred: Izquierda\n",
            "2\n",
            "pred: Izquierda\n",
            "2\n",
            "pred: Izquierda\n",
            "2\n",
            "pred: Izquierda\n",
            "2\n",
            "pred: Izquierda\n",
            "2\n",
            "pred: Izquierda\n",
            "2\n",
            "pred: Izquierda\n",
            "2\n",
            "pred: Izquierda\n",
            "2\n",
            "pred: Izquierda\n",
            "2\n",
            "\n",
            "Derecha:\n",
            "pred: Derecha\n",
            "1\n",
            "pred: Derecha\n",
            "1\n",
            "pred: Derecha\n",
            "1\n",
            "pred: Derecha\n",
            "1\n",
            "pred: Derecha\n",
            "1\n",
            "pred: Derecha\n",
            "1\n",
            "pred: Derecha\n",
            "1\n",
            "pred: Adelante\n",
            "0\n",
            "pred: Derecha\n",
            "1\n",
            "pred: Derecha\n",
            "1\n",
            "pred: Derecha\n",
            "1\n",
            "pred: Derecha\n",
            "1\n",
            "pred: Derecha\n",
            "1\n",
            "pred: Derecha\n",
            "1\n",
            "pred: Derecha\n",
            "1\n",
            "pred: Derecha\n",
            "1\n",
            "pred: Derecha\n",
            "1\n",
            "pred: Derecha\n",
            "1\n",
            "pred: Derecha\n",
            "1\n",
            "pred: Derecha\n",
            "1\n",
            "pred: Derecha\n",
            "1\n",
            "pred: Adelante\n",
            "0\n",
            "pred: Derecha\n",
            "1\n",
            "pred: Derecha\n",
            "1\n",
            "pred: Derecha\n",
            "1\n",
            "pred: Derecha\n",
            "1\n",
            "pred: Derecha\n",
            "1\n",
            "pred: Derecha\n",
            "1\n",
            "pred: Derecha\n",
            "1\n",
            "pred: Adelante\n",
            "0\n"
          ],
          "name": "stdout"
        }
      ]
    }
  ]
}